{
 "cells": [
  {
   "cell_type": "markdown",
   "metadata": {},
   "source": [
    "# Geophysical tutorial: Step-by-step NMO correction\n",
    "\n",
    "by [Leonardo Uieda](http://www.leouieda.com)\n",
    "\n",
    "*This is a part of The Leading Edge [tutorials\n",
    "series](https://dx.doi.org/10.1190/tle35020190.1).*\n",
    "\n",
    "Open any text book about seismic data processing and you will inevitably find a\n",
    "section about the Normal Moveout (NMO) correction.\n",
    "When applied to a Common Mid Point (CMP) section, the correction is supposed to\n",
    "turn the hyperbola associated with a reflection into a straight horizontal\n",
    "line.\n",
    "What most text books won't tell you is *how, exactly, do you apply this\n",
    "equation to the data*?\n",
    "\n",
    "That is what this tutorial will teach you (hopefully).\n",
    "\n",
    "**Note**: This notebook is based on the material for my NMO and velocity analysis lecture of my [Intro Geophysics II](https://github.com/leouieda/geofisica2) course (in Portuguese)."
   ]
  },
  {
   "cell_type": "markdown",
   "metadata": {},
   "source": [
    "## Running the code in this notebook\n",
    "\n",
    "This is a [Jupyter notebook](http://jupyter.org/). It is divided into blocks called *cells*. Each cell can contain text formated in Markdown (like this one! click on it to see) or Python source code. Cells can be run individually by clicking on it and pressing `Shift+Enter`. Note that variables created in a cell are global to the notebook, they are not bound to a specific cell. Running Markdown cells will render the text nicely."
   ]
  },
  {
   "cell_type": "markdown",
   "metadata": {},
   "source": [
    "## Libraries\n",
    "\n",
    "First, we need to load the libraries that make life so pleasant in Python-land."
   ]
  },
  {
   "cell_type": "code",
   "execution_count": 6,
   "metadata": {
    "collapsed": true
   },
   "outputs": [],
   "source": [
    "%matplotlib inline\n",
    "import numpy as np               # For array based computations and world domination\n",
    "import scipy.interpolate         # For the interpolation functions\n",
    "import matplotlib.pyplot as plt  # For making plots"
   ]
  },
  {
   "cell_type": "markdown",
   "metadata": {},
   "source": [
    "## Loading a synthetic CMP\n",
    "\n",
    "We'll use a synthetic CMP gather to test our NMO correction. I prepared this data set using a finite-difference acoustic wave propagation code that is currently under development for the [Fatiando a Terra](http://jupyter.org/) library (see [pull request 308](https://github.com/fatiando/fatiando/pull/308)).\n",
    "\n",
    "The data are stored in a [compressed numpy format](https://docs.scipy.org/doc/numpy/reference/generated/numpy.savez_compressed.html) and can be loaded with `numpy.load`."
   ]
  },
  {
   "cell_type": "code",
   "execution_count": 7,
   "metadata": {
    "collapsed": false
   },
   "outputs": [
    {
     "name": "stdout",
     "output_type": "stream",
     "text": [
      "Data in the archive: ['dt', 'offsets', 'CMP']\n"
     ]
    }
   ],
   "source": [
    "data = np.load('data/synthetic_cmp.npz')\n",
    "print(\"Data in the archive:\", data.keys())"
   ]
  },
  {
   "cell_type": "code",
   "execution_count": 14,
   "metadata": {
    "collapsed": false
   },
   "outputs": [
    {
     "name": "stdout",
     "output_type": "stream",
     "text": [
      "dt = 0.00045678391959799 s\n",
      "offsets = [120 180 240 300 360 420 480 540 600 660 720 780 840 900]\n",
      "N samples = 1200\n",
      "N offsets = 14\n"
     ]
    }
   ],
   "source": [
    "dt = data['dt']\n",
    "offsets = data['offsets']\n",
    "cmp = data['CMP']\n",
    "nsamples = cmp.shape[0]\n",
    "noffsets = cmp.shape[1]\n",
    "print('dt = {} s'.format(dt))\n",
    "print('offsets =', offsets)\n",
    "print('N samples = {}'.format(nsamples))\n",
    "print('N offsets = {}'.format(noffsets))"
   ]
  },
  {
   "cell_type": "markdown",
   "metadata": {},
   "source": [
    "Let's visualize our CMP gather using matplotlib."
   ]
  },
  {
   "cell_type": "code",
   "execution_count": 20,
   "metadata": {
    "collapsed": false
   },
   "outputs": [
    {
     "data": {
      "image/png": "[encoded data removed]",
      "text/plain": [
       "<matplotlib.figure.Figure at 0x7f4e5eedf940>"
      ]
     },
     "metadata": {},
     "output_type": "display_data"
    }
   ],
   "source": [
    "fig = plt.figure(figsize=(6, 5))\n",
    "ax = plt.subplot(111)\n",
    "ax.set_title('Synthetic CMP')\n",
    "ax.set_xlabel('trace number')\n",
    "ax.set_ylabel('time (s)')\n",
    "cutoff = 0.1\n",
    "ax.imshow(cmp, extent=[0.5, noffsets + 0.5, dt*nsamples, 0], \n",
    "          aspect=20, cmap='Greys', vmin=-cutoff, vmax=cutoff, \n",
    "          interpolation='nearest')\n",
    "trace_numbers = list(range(1, noffsets + 1))\n",
    "ax.set_xticks(trace_numbers)\n",
    "fig.tight_layout()"
   ]
  },
  {
   "cell_type": "markdown",
   "metadata": {
    "collapsed": true
   },
   "source": [
    "The events that we can see in the CMP are (from top to bottom):\n",
    "1. The direct wave.\n",
    "2. The reflection on the first interface.\n",
    "3. A multiple reflection on the first interface.\n",
    "4. The reflection on the second interface."
   ]
  },
  {
   "cell_type": "markdown",
   "metadata": {},
   "source": [
    "## Building our NMO correction\n",
    "\n",
    "The algorithm for NMO correction described in the tutorial is:\n",
    "\n",
    "1. Start with an NMO gather filled with zeros.\n",
    "2. For each point ($t_0, x$) in the NMO gather, do:\n",
    "\n",
    "    * Calculate the reflection travel-time ($t$) given $v_{NMO}$.\n",
    "    * Go to the trace at offset $x$ in the CMP and find the two samples before and the two samples after time $t$.\n",
    "    * If $t$ is greater than the recording time or if it doesn't have two samples after it, skip the next two steps.\n",
    "    * Use the amplitude in these four samples to interpolate the amplitude at time $t$.\n",
    "    * Copy the interpolated amplitude to the NMO gather at ($t_0, x$).\n",
    "    \n",
    "We'll use three functions to implement this whole algorithm. First, let's start with a function that performs the overall correction, relying on some functions that we'll define later on."
   ]
  },
  {
   "cell_type": "code",
   "execution_count": null,
   "metadata": {
    "collapsed": true
   },
   "outputs": [],
   "source": [
    "def nmo_correction(cmp, dt, offsets, velocities):\n",
    "    \"\"\"\n",
    "    Performs NMO correction on the given CMP.\n",
    "    \n",
    "    Parameters\n",
    "    ----------\n",
    "    \n",
    "    cmp : 2D array\n",
    "        The CMP gather that we want to correct.\n",
    "    dt : float\n",
    "        The sampling interval.\n",
    "    offsets : 1D array\n",
    "        An array with the offset of each trace in the CMP.\n",
    "    velocities : 1D array\n",
    "        An array with the NMO velocity for each time. Should\n",
    "        have the same number of elements as the CMP has samples.\n",
    "        \n",
    "    Returns\n",
    "    -------\n",
    "    \n",
    "    nmo : 2D array\n",
    "        The NMO corrected gather.\n",
    "    \"\"\"\n",
    "    nmo = np.zeros_like(cmp)\n",
    "    nsamples = cmp.shape[0]\n",
    "    times = np.arange(0, nsamples*dt, dt)\n",
    "    for i, t0 in enumerate(times):\n",
    "        for j, x in enumerate(offsets):\n",
    "            t = reflection_time(t0, x, velocities[i])\n",
    "            amplitude = sample_trace(cmp[i, :], t, dt)\n",
    "            # If the time t is outside of the CMP time range,\n",
    "            # amplitude will be None.\n",
    "            if amplitude is not None:\n",
    "                nmo[i, j] = amplitude\n",
    "    return nmo    "
   ]
  },
  {
   "cell_type": "code",
   "execution_count": null,
   "metadata": {
    "collapsed": true
   },
   "outputs": [],
   "source": [
    "\n",
    "            t = np.sqrt(t0**2 + o**2/v[i]**2)\n",
    "            k = int(math.floor(t/dt))\n",
    "            if k < times.size - 1:\n",
    "                # Linear interpolation of the amplitude\n",
    "                y0, y1 = CMP[k, j], CMP[k + 1, j]\n",
    "                x0, x1 = times[k], times[k + 1]\n",
    "                nmo[i, j] = y0 + (y1 - y0)*(t - x0)/(x1 - x0)"
   ]
  }
 ],
 "metadata": {
  "anaconda-cloud": {},
  "kernelspec": {
   "display_name": "Python [nmo-tutorial]",
   "language": "python",
   "name": "Python [nmo-tutorial]"
  },
  "language_info": {
   "codemirror_mode": {
    "name": "ipython",
    "version": 3
   },
   "file_extension": ".py",
   "mimetype": "text/x-python",
   "name": "python",
   "nbconvert_exporter": "python",
   "pygments_lexer": "ipython3",
   "version": "3.5.2"
  }
 },
 "nbformat": 4,
 "nbformat_minor": 0
}
